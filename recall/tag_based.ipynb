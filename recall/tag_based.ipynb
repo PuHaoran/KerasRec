{
 "cells": [
  {
   "cell_type": "markdown",
   "id": "a55c5f66",
   "metadata": {},
   "source": [
    "##### TagBased\n",
    "\n",
    "基于标签的简单个性化推荐。\n",
    "    \n",
    "    1) 统计用户最常用的标签。\n",
    "    2) 对每个标签，统计被打过的标签次数最多的物品。\n",
    "    3) 对每个用户，找到他常用标签，然后将这些标签的最热门物品推荐给用户。\n",
    "\n",
    "用户对物品i的兴趣度：$p(u, i) = \\sum_{b}n_{u,b}n_{b,i}$\n",
    "\n",
    "$n_{u,b}$是用户u打过标签b的次数，$n_{b,i}$标签b下物品i被点击的次数。\n",
    "\n",
    "##### TagBasedTFIDF\n",
    "\n",
    "基于标签的简单个性化推荐存在热门标签权重过大的问题，从而过多的推荐热门商品，降低了推荐结果的新颖性。为了解决这个问题，尝试借鉴TFIDF思想，对公式进行改进。\n",
    "\n",
    "$p(u, i) = \\sum_{b}\\frac{n_{u,b}}{log(1+n_{b}^{u})}n_{b,i}$\n",
    "\n",
    "其中$n_{b}^{u}$记录标签b被多少个用户使用。\n",
    "\n",
    "##### TagBasedTFIDF++\n",
    "\n",
    "相比TagBased，同时对热门物品和热门标签进行惩罚。\n",
    "\n",
    "$p(u, i) = \\sum_{b}\\frac{n_{u,b}}{log(1+n_{b}^{u})}\\frac{n_{b,i}}{log(1+n_{i}^{u})}$"
   ]
  },
  {
   "cell_type": "code",
   "execution_count": 63,
   "id": "92176cb5",
   "metadata": {},
   "outputs": [],
   "source": [
    "import os\n",
    "import time\n",
    "import math\n",
    "import random\n",
    "import numpy as np\n",
    "import pandas as pd\n",
    "from collections import defaultdict  \n",
    "from tqdm import tqdm_notebook as tqdm\n",
    "\n",
    "from sklearn.model_selection import train_test_split\n",
    "\n",
    "import warnings\n",
    "warnings.filterwarnings(\"ignore\")\n",
    "\n",
    "def timmer(func):\n",
    "    def wrapper(*args, **kwargs):\n",
    "        start_time = time.time()\n",
    "        res = func(*args, **kwargs)\n",
    "        stop_time = time.time()\n",
    "        print('Func %s, run time: %s' % (func.__name__, stop_time - start_time))\n",
    "        return res\n",
    "\n",
    "    return wrapper"
   ]
  },
  {
   "cell_type": "code",
   "execution_count": 64,
   "id": "b47babe4",
   "metadata": {},
   "outputs": [],
   "source": [
    "class Dataset():\n",
    "    def __init__(self, rating_path, item_path):\n",
    "        \"\"\" 读取数据，构建数据集 \"\"\"\n",
    "        self.data = self.load_data(rating_path, item_path)\n",
    "        \n",
    "    def load_data(self, rating_path, item_path):\n",
    "        df = pd.read_csv(rating_path, names=['user_id', 'item_id', 'rating', 'click_timestamp'], sep='::')\n",
    "        item_df = pd.read_csv(item_path, names=['item_id', 'title', 'item_cate_id'], sep='::')\n",
    "        # 对Item类别标签进行处理\n",
    "        item_df['item_cate_id'] = item_df['item_cate_id'].map(lambda x: x.split('|'))\n",
    "        # 数据合并\n",
    "        df = pd.merge(df, item_df, on='item_id')\n",
    "        return df\n",
    "    \n",
    "    def split_data(self, M, k, seed=1024):\n",
    "        \"\"\" 数据集划分\n",
    "        :param M 划分的折数\n",
    "        :param k 第几次划分k∈[0, M)\n",
    "        :return: train test\n",
    "        \"\"\"        \n",
    "        self.data = self.data.sample(frac=1, random_state=seed)\n",
    "        self.data.reset_index(inplace=True, drop=True)\n",
    "        train = self.data[self.data.index % M != k]\n",
    "        test = self.data[self.data.index % M == k]\n",
    "        \n",
    "        def convert_dict(data):\n",
    "            \"\"\" 转化为字典形式\n",
    "            :params data [(user1, item1), (user2, item2)]\n",
    "            :return: {user1: [(item1, time1), (item2, time2)..]}\n",
    "            \"\"\"\n",
    "            \n",
    "            data = data.sort_values(['user_id', 'click_timestamp'])\n",
    "            \n",
    "            def make_item_tags_pair(df):\n",
    "                return list(zip(df['item_id'], df['item_cate_id']))\n",
    "            \n",
    "            user_item_time_df = data.groupby('user_id')['item_id', 'item_cate_id'].apply(lambda x: make_item_tags_pair(x))\\\n",
    "                                                                    .reset_index().rename(columns={0: 'item_tags_list'})\n",
    "            \n",
    "            user_item_tags_dict = dict(zip(user_item_time_df['user_id'], user_item_time_df['item_tags_list']))\n",
    "            return user_item_tags_dict\n",
    "            \n",
    "        return convert_dict(train), convert_dict(test)"
   ]
  },
  {
   "cell_type": "markdown",
   "id": "ba1bcbb3",
   "metadata": {},
   "source": [
    "##### TagBased"
   ]
  },
  {
   "cell_type": "code",
   "execution_count": 84,
   "id": "d4507844",
   "metadata": {},
   "outputs": [],
   "source": [
    "@timmer\n",
    "def tag_based_rec(train, K, N):\n",
    "    \"\"\" 基于兴趣标签推荐\n",
    "    :param train 训练集\n",
    "    :params: K TopK相似用户/物品\n",
    "    :params: N 推荐物品个数TopN\n",
    "    \"\"\"\n",
    "    user_tag_dict = {}\n",
    "    tag_item_dict = {}\n",
    "    \n",
    "    def init_mat_dict(d, v1, v2):\n",
    "        \"\"\" 统计d[v1][v2]数量 \"\"\"\n",
    "        if v1 not in d:\n",
    "            d[v1] = {}\n",
    "        if v2 not in d[v1]:\n",
    "            d[v1][v2] = 0\n",
    "        d[v1][v2] += 1\n",
    "        return d\n",
    "    \n",
    "    for user_id, item_tags_list in tqdm(train.items()):\n",
    "        # 位置 itemID 标签列表\n",
    "        for loc, (item_id, i_tags) in enumerate(item_tags_list):\n",
    "            for tag in i_tags:\n",
    "                user_tag_dict = init_mat_dict(user_tag_dict, user_id, tag)\n",
    "                tag_item_dict = init_mat_dict(tag_item_dict, tag, item_id)\n",
    "    print('tag len:', len(tag_item_dict.keys()))\n",
    "                \n",
    "    def get_recommendation(user):\n",
    "        \"\"\" 推荐用户未消费的前N个物品 \"\"\"\n",
    "        seen_items = set([i[0] for i in train[user]]) # 用户点击过得物品\n",
    "        rec_item_dict = {}\n",
    "        for tag, nub in user_tag_dict[user].items(): # 用户的兴趣标签\n",
    "            for item, nbi in tag_item_dict[tag].items(): # 标签下的热门物品\n",
    "                if item not in rec_item_dict:\n",
    "                    rec_item_dict[item] = 0\n",
    "                rec_item_dict[item] += nub * nbi # 用户点击标签次数 * 标签下的Item点击次数\n",
    "        rec_items = {k: rec_item_dict[k] for k in rec_item_dict.keys() if k not in seen_items}\n",
    "        rec_items = [item for item in sorted(rec_items.items(), key=lambda x:x[1], reverse=True)]\n",
    "        return rec_items[:N]\n",
    "    \n",
    "    return get_recommendation"
   ]
  },
  {
   "cell_type": "markdown",
   "id": "d296b266",
   "metadata": {},
   "source": [
    "##### TagBasedTfidf"
   ]
  },
  {
   "cell_type": "code",
   "execution_count": 85,
   "id": "e161f5dc",
   "metadata": {},
   "outputs": [],
   "source": [
    "@timmer\n",
    "def tag_based_tfidf_rec(train, K, N):\n",
    "    \"\"\" 基于兴趣标签推荐\n",
    "    :param train 训练集\n",
    "    :params: K TopK相似用户/物品\n",
    "    :params: N 推荐物品个数TopN\n",
    "    \"\"\"\n",
    "    user_tag_dict = {}\n",
    "    tag_item_dict = {}\n",
    "    tag_user_dict = {}\n",
    "    \n",
    "    def init_mat_dict(d, v1, v2):\n",
    "        \"\"\" 统计d[v1][v2]数量 \"\"\"\n",
    "        if v1 not in d:\n",
    "            d[v1] = {}\n",
    "        if v2 not in d[v1]:\n",
    "            d[v1][v2] = 0\n",
    "        d[v1][v2] += 1\n",
    "        return d\n",
    "    \n",
    "    for user_id, item_tags_list in tqdm(train.items()):\n",
    "        # 位置 itemID 标签列表\n",
    "        for loc, (item_id, i_tags) in enumerate(item_tags_list):\n",
    "            for tag in i_tags:\n",
    "                user_tag_dict = init_mat_dict(user_tag_dict, user_id, tag)\n",
    "                tag_item_dict = init_mat_dict(tag_item_dict, tag, item_id)\n",
    "                tag_user_dict = init_mat_dict(tag_user_dict, tag, user_id)\n",
    "    \n",
    "    def get_recommendation(user):\n",
    "        \"\"\" 推荐用户未消费的前N个物品 \"\"\"\n",
    "        seen_items = set([i[0] for i in train[user]]) # 用户点击过得物品\n",
    "        rec_item_dict = {}\n",
    "        for tag, nub in user_tag_dict[user].items(): # 用户的兴趣标签\n",
    "            for item, nbi in tag_item_dict[tag].items(): # 标签下的热门物品\n",
    "                if item not in rec_item_dict:\n",
    "                    rec_item_dict[item] = 0\n",
    "                rec_item_dict[item] += nub * nbi / np.log(1+len(tag_user_dict[tag])) # 用户点击标签次数 * 标签下的Item点击次数 / log(1+当前标签被点击的次数)\n",
    "        \n",
    "        rec_items = {k: rec_item_dict[k] for k in rec_item_dict.keys() if k not in seen_items}\n",
    "        rec_items = [item for item in sorted(rec_items.items(), key=lambda x:x[1], reverse=True)]\n",
    "        return rec_items[:N]\n",
    "    \n",
    "    return get_recommendation"
   ]
  },
  {
   "cell_type": "markdown",
   "id": "4fdc9270",
   "metadata": {},
   "source": [
    "##### TagBasedTfidf++"
   ]
  },
  {
   "cell_type": "code",
   "execution_count": 86,
   "id": "6a7f912b",
   "metadata": {},
   "outputs": [],
   "source": [
    "@timmer\n",
    "def tag_based_tfidf_plus_rec(train, K, N):\n",
    "    \"\"\" 基于兴趣标签推荐\n",
    "    :param train 训练集\n",
    "    :params: K TopK相似用户/物品\n",
    "    :params: N 推荐物品个数TopN\n",
    "    \"\"\"\n",
    "    user_tag_dict = {}\n",
    "    tag_item_dict = {}\n",
    "    tag_user_dict = {}\n",
    "    item_user_dict = {}\n",
    "    \n",
    "    def init_mat_dict(d, v1, v2):\n",
    "        \"\"\" 统计d[v1][v2]数量 \"\"\"\n",
    "        if v1 not in d:\n",
    "            d[v1] = {}\n",
    "        if v2 not in d[v1]:\n",
    "            d[v1][v2] = 0\n",
    "        d[v1][v2] += 1\n",
    "        return d\n",
    "    \n",
    "    for user_id, item_tags_list in tqdm(train.items()):\n",
    "        # 位置 itemID 标签列表\n",
    "        for loc, (item_id, i_tags) in enumerate(item_tags_list):\n",
    "            for tag in i_tags:\n",
    "                user_tag_dict = init_mat_dict(user_tag_dict, user_id, tag)\n",
    "                tag_item_dict = init_mat_dict(tag_item_dict, tag, item_id)\n",
    "                tag_user_dict = init_mat_dict(tag_user_dict, tag, user_id)\n",
    "            item_user_dict = init_mat_dict(item_user_dict, item_id, user_id)\n",
    "                \n",
    "    def get_recommendation(user):\n",
    "        \"\"\" 推荐用户未消费的前N个物品 \"\"\"\n",
    "        seen_items = set([i[0] for i in train[user]]) # 用户点击过得物品\n",
    "        rec_item_dict = {}\n",
    "        for tag, nub in user_tag_dict[user].items(): # 用户的兴趣标签\n",
    "            for item, nbi in tag_item_dict[tag].items(): # 标签下的热门物品\n",
    "                if item not in rec_item_dict:\n",
    "                    rec_item_dict[item] = 0\n",
    "                rec_item_dict[item] += nub * nbi / np.log(1+len(tag_user_dict[tag])) / np.log(1+len(item_user_dict[item_id])) # 用户点击标签次数 * 标签下的Item点击次数 / log(1+当前标签被点击的次数)\n",
    "        \n",
    "        rec_items = {k: rec_item_dict[k] for k in rec_item_dict.keys() if k not in seen_items}\n",
    "        rec_items = [item for item in sorted(rec_items.items(), key=lambda x:x[1], reverse=True)]\n",
    "        return rec_items[:N]\n",
    "    \n",
    "    return get_recommendation"
   ]
  },
  {
   "cell_type": "markdown",
   "id": "336e8fd8",
   "metadata": {},
   "source": [
    "##### 模型评估"
   ]
  },
  {
   "cell_type": "code",
   "execution_count": 87,
   "id": "20f795cd",
   "metadata": {},
   "outputs": [],
   "source": [
    "class Metric():\n",
    "    def __init__(self, train, test, get_recommendation):\n",
    "        \"\"\" 获取测试集所有用户的推荐结果，进行评估 \"\"\"\n",
    "        self.train = train\n",
    "        self.test = test\n",
    "        self.get_recommendation = get_recommendation\n",
    "        self.rec_result = self.get_rec_result()\n",
    "    \n",
    "    def get_rec_result(self):\n",
    "        \"\"\" 获取测试集推荐结果 \"\"\"\n",
    "        rec_result = {}\n",
    "        for user in tqdm(self.test):\n",
    "            rec_result[user] = self.get_recommendation(user)\n",
    "        return rec_result\n",
    "    \n",
    "    # {user1: [(item1, time1), (item2, time2)..]}\n",
    "    def precision(self):\n",
    "        \"\"\" 精确率，命中的item占所有推荐item的比例 \"\"\"\n",
    "        _hit, _all = 0, 0\n",
    "        for user in self.test:\n",
    "            items = set([i[0] for i in self.test[user]])\n",
    "            rank = self.rec_result[user]\n",
    "            for item, _ in rank:\n",
    "                if item in items:\n",
    "                    _hit += 1\n",
    "            _all += len(rank)\n",
    "        return round(_hit / _all * 100, 2)\n",
    "    \n",
    "    def recall(self):\n",
    "        \"\"\" 召回率，命中的item占所有真实点击item的比例 \"\"\"\n",
    "        _hit, _all = 0, 0\n",
    "        for user in self.test:\n",
    "            items = set([i[0] for i in self.test[user]])\n",
    "            rank = self.rec_result[user]\n",
    "            for item, _ in rank:\n",
    "                if item in items:\n",
    "                    _hit += 1\n",
    "            _all += len(items)\n",
    "        return round(_hit / _all * 100, 2)\n",
    "    \n",
    "    def coverage(self):\n",
    "        \"\"\" 覆盖率，推荐的item占所有商品的比例 \"\"\"\n",
    "        all_items, rec_items = set(), set()\n",
    "        for user in self.test:\n",
    "            for item in set([i[0] for i in self.train[user]]):\n",
    "                all_items.add(item)\n",
    "            rank = self.rec_result[user]\n",
    "            for item, _ in rank:\n",
    "                rec_items.add(item)\n",
    "        return round(len(rec_items) / len(all_items) * 100, 2)\n",
    "        \n",
    "    def popularity(self):\n",
    "        \"\"\" 流行度，衡量商品热度的方式 \"\"\"\n",
    "        item_popularity_dict = {}\n",
    "        for user in self.test:\n",
    "            for item in [i[0] for i in self.train[user]]:\n",
    "                if item not in item_popularity_dict:\n",
    "                    item_popularity_dict[item] = 0\n",
    "                item_popularity_dict[item] += 1\n",
    "        \n",
    "        _all, _p = 0, 0 # item数量 流行度\n",
    "        for user in self.test:\n",
    "            rank = self.rec_result[user]\n",
    "            for item, _ in rank:\n",
    "                _p += math.log(1+item_popularity_dict[item])\n",
    "                _all += 1\n",
    "        return round(_p / _all, 6)\n",
    "        \n",
    "    def eval(self):\n",
    "        \"\"\" 评估测试集各项指标 \"\"\"\n",
    "        model_metric = {\n",
    "            'Precision': self.precision(),\n",
    "            'Recall': self.recall(),\n",
    "            'Coverage': self.coverage(),\n",
    "            'Popularity': self.popularity(),\n",
    "        }\n",
    "        print('Metric:', model_metric)\n",
    "        return model_metric\n",
    "\n",
    "class Experiment():\n",
    "    def __init__(self, M, K, N, filepaths, algname):\n",
    "        \"\"\"\n",
    "        :params: M 进行多少次实验\n",
    "        :params: K TopK相似用户/物品\n",
    "        :params: N 推荐物品个数TopN\n",
    "        :params: filepath 数据路径\n",
    "        :params: 算法名称\n",
    "        \"\"\"\n",
    "        self.M = M\n",
    "        self.K = K\n",
    "        self.N = N\n",
    "        self.filepaths = filepaths\n",
    "        self.algname = algname\n",
    "        self.alg = {\n",
    "            \"TagBased\": tag_based_rec,\n",
    "            \"TagBasedTFIDF\": tag_based_tfidf_rec,\n",
    "            \"TagBasedTFIDF++\": tag_based_tfidf_plus_rec\n",
    "        }\n",
    "    \n",
    "    @timmer\n",
    "    def single_run(self, train, test):\n",
    "        \"\"\"\n",
    "        :params: train 训练数据集\n",
    "        :params: test 测试数据集\n",
    "        :return: 各项指标\n",
    "        \"\"\"\n",
    "        get_recommendation = self.alg[self.algname](train, self.K, self.N)\n",
    "        metric = Metric(train, test, get_recommendation)\n",
    "        return metric.eval()\n",
    "    \n",
    "    @timmer\n",
    "    def run(self):\n",
    "        dataset = Dataset(self.filepaths[0], self.filepaths[1])\n",
    "        train, _test = dataset.split_data(self.M, k=1)\n",
    "        # 只保留有过历史行为的用户进行测试\n",
    "        test = {}\n",
    "        for k, v in _test.items():\n",
    "            if k in train.keys():\n",
    "                test[k] = _test[k]\n",
    "            else:\n",
    "                print('del test user: ', k)\n",
    "        metric = self.single_run(train, test)"
   ]
  },
  {
   "cell_type": "code",
   "execution_count": 88,
   "id": "4e898d3e",
   "metadata": {},
   "outputs": [
    {
     "name": "stdout",
     "output_type": "stream",
     "text": [
      "=============== TagBased START ===============\n"
     ]
    },
    {
     "data": {
      "application/vnd.jupyter.widget-view+json": {
       "model_id": "271dc250b5784bf2ac884ea1e422fcc5",
       "version_major": 2,
       "version_minor": 0
      },
      "text/plain": [
       "  0%|          | 0/6040 [00:00<?, ?it/s]"
      ]
     },
     "metadata": {},
     "output_type": "display_data"
    },
    {
     "name": "stdout",
     "output_type": "stream",
     "text": [
      "tag len: 18\n",
      "Func tag_based_rec, run time: 1.2167139053344727\n"
     ]
    },
    {
     "data": {
      "application/vnd.jupyter.widget-view+json": {
       "model_id": "7001aa1e99c64b33a0bac268e13cf4dc",
       "version_major": 2,
       "version_minor": 0
      },
      "text/plain": [
       "  0%|          | 0/5996 [00:00<?, ?it/s]"
      ]
     },
     "metadata": {},
     "output_type": "display_data"
    },
    {
     "name": "stdout",
     "output_type": "stream",
     "text": [
      "Metric: {'Precision': 15.0, 'Recall': 7.2, 'Coverage': 4.58, 'Popularity': 7.530587}\n",
      "Func single_run, run time: 18.869747161865234\n",
      "Func run, run time: 25.184858798980713\n",
      "=============== TagBased END ===============\n",
      "\n",
      "=============== TagBasedTFIDF START ===============\n"
     ]
    },
    {
     "data": {
      "application/vnd.jupyter.widget-view+json": {
       "model_id": "de3df66e5ca04f0bb7e873cf82b895cf",
       "version_major": 2,
       "version_minor": 0
      },
      "text/plain": [
       "  0%|          | 0/6040 [00:00<?, ?it/s]"
      ]
     },
     "metadata": {},
     "output_type": "display_data"
    },
    {
     "name": "stdout",
     "output_type": "stream",
     "text": [
      "Func tag_based_tfidf_rec, run time: 1.6958022117614746\n"
     ]
    },
    {
     "data": {
      "application/vnd.jupyter.widget-view+json": {
       "model_id": "8ded62aa1eb74582a1b7c7e3ba3d652f",
       "version_major": 2,
       "version_minor": 0
      },
      "text/plain": [
       "  0%|          | 0/5996 [00:00<?, ?it/s]"
      ]
     },
     "metadata": {},
     "output_type": "display_data"
    },
    {
     "name": "stdout",
     "output_type": "stream",
     "text": [
      "Metric: {'Precision': 15.01, 'Recall': 7.2, 'Coverage': 4.58, 'Popularity': 7.53034}\n",
      "Func single_run, run time: 81.86057543754578\n",
      "Func run, run time: 88.30936527252197\n",
      "=============== TagBasedTFIDF END ===============\n",
      "\n",
      "=============== TagBasedTFIDF++ START ===============\n"
     ]
    },
    {
     "data": {
      "application/vnd.jupyter.widget-view+json": {
       "model_id": "591cb4c0bd32413587386066ec6d157e",
       "version_major": 2,
       "version_minor": 0
      },
      "text/plain": [
       "  0%|          | 0/6040 [00:00<?, ?it/s]"
      ]
     },
     "metadata": {},
     "output_type": "display_data"
    },
    {
     "name": "stdout",
     "output_type": "stream",
     "text": [
      "Func tag_based_tfidf_plus_rec, run time: 2.4119913578033447\n"
     ]
    },
    {
     "data": {
      "application/vnd.jupyter.widget-view+json": {
       "model_id": "0255f7e1adbe4e3aaffac682a7315df9",
       "version_major": 2,
       "version_minor": 0
      },
      "text/plain": [
       "  0%|          | 0/5996 [00:00<?, ?it/s]"
      ]
     },
     "metadata": {},
     "output_type": "display_data"
    },
    {
     "name": "stdout",
     "output_type": "stream",
     "text": [
      "Metric: {'Precision': 15.01, 'Recall': 7.2, 'Coverage': 4.58, 'Popularity': 7.53034}\n",
      "Func single_run, run time: 133.32245087623596\n",
      "Func run, run time: 139.84999632835388\n",
      "=============== TagBasedTFIDF++ END ===============\n",
      "\n"
     ]
    }
   ],
   "source": [
    "# 将数据集划分为8折，根据K个相似项中推荐N个物品\n",
    "M, N, K = 8, 10, 10\n",
    "# rating_path item_path\n",
    "file_paths = ['../data/ml-1m/ratings.dat', '../data/ml-1m/movies.dat']\n",
    "\n",
    "# 模型评估\n",
    "ALGS = [\"TagBased\", \"TagBasedTFIDF\", \"TagBasedTFIDF++\"]\n",
    "\n",
    "for alg in ALGS:\n",
    "    print(f'=============== {alg} START ===============')\n",
    "    exp = Experiment(M, K, N, file_paths, alg)\n",
    "    exp.run()\n",
    "    print(f'=============== {alg} END ===============\\n')"
   ]
  },
  {
   "cell_type": "markdown",
   "id": "8eab1ed5",
   "metadata": {},
   "source": [
    "##### 评估指标\n",
    "\n",
    "| Mode  | 场景 |  优点 |  缺点 | 精确率 | 召回率 | 覆盖率 | 流行度 |\n",
    "| :-------------------: |:-------------------: |:-------------------: |:-------------------: |:-------------------: |:-------------------: |:-------------------: |:-------------------: |\n",
    "| **TagBased** | feed流推荐场景 | 可以建立tag倒排索引，加速线上召回速度。 | 依赖于tag效果。 |  15.0 | 7.2 | 4.58 | 7.531 |\n",
    "| **TagBasedTFIDF** | - | - | - | 15.01 | 7.2 | 4.58 | 7.530 |\n",
    "| **TagBasedTFIDF++** | - | - | - |  15.01 | 7.2 | 4.58 | 7.530 |\n",
    "\n",
    "因为受Movielens数据集标签数量影响(仅18个标签)，TagBased相比其他几种协同过滤算法的CP要差一点，但相比基于热度的推荐CP表现更好。"
   ]
  },
  {
   "cell_type": "code",
   "execution_count": null,
   "id": "7d8a5504",
   "metadata": {},
   "outputs": [],
   "source": []
  }
 ],
 "metadata": {
  "kernelspec": {
   "display_name": "Python 3",
   "language": "python",
   "name": "python3"
  },
  "language_info": {
   "codemirror_mode": {
    "name": "ipython",
    "version": 3
   },
   "file_extension": ".py",
   "mimetype": "text/x-python",
   "name": "python",
   "nbconvert_exporter": "python",
   "pygments_lexer": "ipython3",
   "version": "3.6.13"
  }
 },
 "nbformat": 4,
 "nbformat_minor": 5
}
