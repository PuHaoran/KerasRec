{
 "cells": [
  {
   "cell_type": "markdown",
   "id": "eef88dec",
   "metadata": {},
   "source": [
    "### 前提知识\n",
    "\n",
    "##### 相似度公式\n",
    "\n",
    "Jaccard公式\n",
    "\n",
    "$w_{ij} = \\frac{|N(i) \\cap N(j)|}{\\sqrt{|N(i)||N(j)|}}$\n",
    "\n",
    "余弦相似度\n",
    "\n",
    "$w_{ij} = \\frac{N(i) · N(j)}{\\sqrt{|N(i)||N(j)|}}$\n",
    "\n",
    "##### 模型评估\n",
    "\n",
    "召回率 推荐物品占用户实际消费物品的比例\n",
    "\n",
    "$Recall = \\frac{\\sum_{u}|R(u)\\bigcap T(u)|}{\\sum_{u}|T(u)|}$\n",
    "\n",
    "精确率 推荐物品占模型预测物品的比例\n",
    "\n",
    "$Precision = \\frac{\\sum_{u}|R(u)\\bigcap T(u)|}{\\sum_{u}|R(u)|}$\n",
    "\n",
    "覆盖率 推荐物品种类占所有物品种类的比例\n",
    "\n",
    "$Coverage = \\frac{|U_{u\\epsilon U}\\  R(u)|}{|I|}$\n",
    "\n",
    "新颖度 推荐物品的平均流行度可以度量推荐结果的新颖度，若推荐物品都很热门，说明推荐物品的流行度高而新颖度低。\n",
    "\n",
    "### 传统协同过滤模型\n",
    "\n",
    "##### 随机推荐\n",
    "\n",
    "给用户随机推荐没有消费过的N个物品。（没有准确性，这里仅作评估指标参考。）\n",
    "\n",
    "##### 热度推荐\n",
    "\n",
    "给用户推荐没有消费过的N个热门物品，通常作为召回算法的补足。\n",
    "\n",
    "##### ItemCF\n",
    "\n",
    "基于物品的协同过滤算法，给用户推荐他之前喜欢物品的相似物品。\n",
    "\n",
    "1. 先根据用户行为数据建立User-Item共现矩阵。\n",
    "2. 然后根据共现矩阵求出物品相似度矩阵。\n",
    "\n",
    "- 喜欢物品i的用户有多少喜欢物品j\n",
    "$w_{ij} = \\frac{|N(i) \\cap N(j)|}{|N(i)|}$\n",
    "\n",
    "- 若j是大家都喜欢的热门物品，则上述公式为1，故对`热门物品j进行惩罚`。\n",
    "$w_{ij} = \\frac{|N(i) \\cap N(j)|}{\\sqrt{|N(i)||N(j)|}}$\n",
    "\n",
    "##### ItemCF-IUF\n",
    "\n",
    "- 活跃度对物品相似度的贡献应该小于不活跃用户，故增加IUF，对`活跃用户进行惩罚`。\n",
    "$w_{ij} = \\frac{\\sum_{u∈N(i) \\cap N(j)} \\quad \\frac{1}{log1+|N(u)|}}{\\sqrt{|N(i)||N(j)|}}$\n",
    "\n",
    "##### ItemCF-Weight\n",
    "\n",
    "- 考虑点击的位置权重、点击时间权重、创建item时间权重（点击的位置越近，时间越近，分子越大，w越大）。\n",
    "\n",
    "$w_{ij} = \\frac{\\sum_{u∈N(i) \\cap N(j)} \\quad \\frac{W_{loc} \\;\\;*\\, W_{time} \\;\\; *\\, W_{ctime}}{log1+|N(u)|}}{\\sqrt{|N(i)||N(j)|}}$\n",
    "\n",
    "##### UserCF\n",
    "\n",
    "基于用户的协同过滤算法，给用户推荐他兴趣相似用户喜欢的物品。\n",
    "\n",
    "1. 先根据用户行为数据建立Item-User共现矩阵。\n",
    "2. 然后根据共现矩阵求出用户相似度矩阵。\n",
    "\n",
    "- 用户i喜欢的物品有多少被用户j喜欢。\n",
    "$w_{ij} = \\frac{|N(i) \\cap N(j)|}{|N(i)|}$\n",
    "\n",
    "- 若j是活跃用户，则上述公式为1，故对`活跃用户j进行惩罚`。\n",
    "$w_{ij} = \\frac{|N(i) \\cap N(j)|}{\\sqrt{|N(i)||N(j)|}}$\n",
    "\n",
    "##### User-IIF\n",
    "\n",
    "以图书为例，两个用户同时购买《新华字典》，丝毫不能说明他们兴趣相似，但同时购买《数据挖掘导论》，则说明他们兴趣比较相似。两个用户对冷门物品采用同样的行为更能说明他们兴趣相似度。\n",
    "\n",
    "$w_{uv} = \\frac{\\sum_{i\\in{N(u)\\bigcap N(v)}}}{\\sqrt{|N(u)||N(v)|}} \\frac{1}{log1+|N(i)|}$\n",
    "\n",
    "$\\frac{1}{log1+N(i)}$惩罚了用户u和用户v共同兴趣列表中热门物品对他们相似度的影响。\n",
    "\n",
    "##### 好友推荐算法（引申）\n",
    "\n",
    "- 基于共同好友简单加权 $w_{ij} = |N(i) \\cap N(j)|$\n",
    "- 对活跃用户进行惩罚 $w_{ij} = \\frac{|N(i) \\cap N(j)|}{|N(i) \\cup N(j)|}$\n",
    "- 对共同好友的活跃用户进行惩罚 $w_{ij} = \\sum|N(i) \\cap N(j)|\\frac{1}{N(k)}$"
   ]
  },
  {
   "cell_type": "code",
   "execution_count": 1,
   "id": "f05f08bd",
   "metadata": {},
   "outputs": [],
   "source": [
    "import os\n",
    "import time\n",
    "import math\n",
    "import random\n",
    "import numpy as np\n",
    "import pandas as pd\n",
    "from collections import defaultdict  \n",
    "from tqdm import tqdm_notebook as tqdm\n",
    "\n",
    "from sklearn.model_selection import train_test_split\n",
    "\n",
    "import warnings\n",
    "warnings.filterwarnings(\"ignore\")\n",
    "\n",
    "def timmer(func):\n",
    "    def wrapper(*args, **kwargs):\n",
    "        start_time = time.time()\n",
    "        res = func(*args, **kwargs)\n",
    "        stop_time = time.time()\n",
    "        print('Func %s, run time: %s' % (func.__name__, stop_time - start_time))\n",
    "        return res\n",
    "\n",
    "    return wrapper"
   ]
  },
  {
   "cell_type": "code",
   "execution_count": 2,
   "id": "24ec0b38",
   "metadata": {},
   "outputs": [],
   "source": [
    "class Dataset():\n",
    "    def __init__(self, filepath):\n",
    "        \"\"\" 读取数据，构建数据集 \"\"\"\n",
    "        self.data = self.load_data(filepath)\n",
    "    \n",
    "    def load_data(self, filepath):\n",
    "        data = pd.read_csv(file_path, names=['user_id', 'item_id', 'rating', 'click_timestamp'], sep='::')\n",
    "        return data\n",
    "    \n",
    "    def split_data(self, M, k, seed=1024):\n",
    "        \"\"\" 数据集划分\n",
    "        :param M 划分的折数\n",
    "        :param k 第几次划分k∈[0, M)\n",
    "        :return: train test\n",
    "        \"\"\"        \n",
    "        self.data = self.data.sample(frac=1, random_state=seed)\n",
    "        self.data.reset_index(inplace=True, drop=True)\n",
    "        train = self.data[self.data.index % M != k]\n",
    "        test = self.data[self.data.index % M == k]\n",
    "        \n",
    "        def convert_dict(data):\n",
    "            \"\"\" 转化为字典形式\n",
    "            :params data [(user1, item1), (user2, item2)]\n",
    "            :return: {user1: [(item1, time1), (item2, time2)..]}\n",
    "            \"\"\"\n",
    "            \n",
    "            data = data.sort_values(['user_id', 'click_timestamp'])\n",
    "\n",
    "            def make_item_time_pair(df):\n",
    "                return list(zip(df['item_id'], df['click_timestamp']))\n",
    "\n",
    "            user_item_time_df = data.groupby('user_id')['item_id', 'click_timestamp'].apply(lambda x: make_item_time_pair(x))\\\n",
    "                                                                    .reset_index().rename(columns={0: 'item_time_list'})\n",
    "\n",
    "            user_item_time_dict = dict(zip(user_item_time_df['user_id'], user_item_time_df['item_time_list']))\n",
    "            return user_item_time_dict\n",
    "\n",
    "        return convert_dict(train), convert_dict(test)"
   ]
  },
  {
   "cell_type": "markdown",
   "id": "56fe7755",
   "metadata": {},
   "source": [
    "##### 随机推荐"
   ]
  },
  {
   "cell_type": "code",
   "execution_count": 3,
   "id": "56c93042",
   "metadata": {},
   "outputs": [],
   "source": [
    "@timmer\n",
    "def random_rec(train, K, N):\n",
    "    \"\"\" 随机推荐\n",
    "    :param train 训练集\n",
    "    :params: K TopK相似用户/物品\n",
    "    :params: N 推荐物品个数TopN\n",
    "    \"\"\"\n",
    "    num_dict = defaultdict(int) # item计数器\n",
    "    for user, item_time_list in tqdm(train.items()):\n",
    "        # 位置 itemID 点击时间\n",
    "        for loc, (i, i_click_time) in enumerate(item_time_list):\n",
    "            num_dict[i] += 1\n",
    "            \n",
    "    def get_sample_items(num_dict, seen_items, num=10):\n",
    "        \"\"\" 随机推荐N个物品 \"\"\"\n",
    "        sampled_item_dict = {}\n",
    "        while num:\n",
    "            key = random.choice(list(num_dict))\n",
    "            if key not in sampled_item_dict and key not in seen_items:\n",
    "                num -= 1\n",
    "                sampled_item_dict[key] = num_dict[key]\n",
    "        return sampled_item_dict.items()\n",
    "            \n",
    "    def get_recommendation(user):\n",
    "        \"\"\" 推荐用户未消费的前N个物品 \"\"\"\n",
    "        seen_items = set([i[0] for i in train[user]]) # 用户点击过得物品\n",
    "        sample_items = get_sample_items(num_dict, seen_items, N)\n",
    "        return sample_items\n",
    "    \n",
    "    return get_recommendation"
   ]
  },
  {
   "cell_type": "markdown",
   "id": "1898d128",
   "metadata": {},
   "source": [
    "##### 热度推荐"
   ]
  },
  {
   "cell_type": "code",
   "execution_count": 4,
   "id": "0e5eee9d",
   "metadata": {},
   "outputs": [],
   "source": [
    "@timmer\n",
    "def hot_rec(train, K, N):\n",
    "    \"\"\" 热度推荐\n",
    "    :param train 训练集\n",
    "    :params: K TopK相似用户/物品\n",
    "    :params: N 推荐物品个数TopN\n",
    "    \"\"\"\n",
    "    num_dict = defaultdict(int) # item计数器\n",
    "    for user, item_time_list in tqdm(train.items()):\n",
    "        # 位置 itemID 点击时间\n",
    "        for loc, (i, i_click_time) in enumerate(item_time_list):\n",
    "            num_dict[i] += 1\n",
    "            \n",
    "    def get_recommendation(user):\n",
    "        \"\"\" 推荐用户未消费的前N个物品 \"\"\"\n",
    "        seen_items = set([i[0] for i in train[user]]) # 用户点击过得物品\n",
    "        hot_items = {k: num_dict[k] for k in num_dict.keys() if k not in seen_items}\n",
    "        hot_items = [item for item in sorted(hot_items.items(), key=lambda x: x[1], reverse=True)]\n",
    "        return hot_items[:N]\n",
    "    \n",
    "    return get_recommendation"
   ]
  },
  {
   "cell_type": "markdown",
   "id": "3279d13a",
   "metadata": {},
   "source": [
    "##### ItemCF"
   ]
  },
  {
   "cell_type": "code",
   "execution_count": 5,
   "id": "5c5d7b53",
   "metadata": {},
   "outputs": [],
   "source": [
    "@timmer\n",
    "def itemCF(train, K, N):\n",
    "    \"\"\" ItemCF\n",
    "    :param train 训练集\n",
    "    :params: K TopK相似用户/物品\n",
    "    :params: N 推荐物品个数TopN\n",
    "    \"\"\"\n",
    "    # 计算物品相似度矩阵\n",
    "    sim_dict = {}\n",
    "    num_dict = defaultdict(int) # item计数器\n",
    "    for user, item_time_list in tqdm(train.items()):\n",
    "        # 位置、itemID、点击时间\n",
    "        for loc1, (i, i_click_time) in enumerate(item_time_list):\n",
    "            num_dict[i] += 1\n",
    "            sim_dict.setdefault(i, {})\n",
    "            for loc2, (j, j_click_time) in enumerate(item_time_list):\n",
    "                sim_dict[i].setdefault(j, 0)\n",
    "                sim_dict[i][j] += 1\n",
    "    for i in sim_dict:\n",
    "        for j in sim_dict[i]:\n",
    "            sim_dict[i][j] /= math.sqrt(num_dict[i] * num_dict[j]) # 对物品热度进行惩罚\n",
    "    \n",
    "    # 按照物品相似度排序\n",
    "    sorted_sim_dict = {k: list(sorted(v.items(), key=lambda x: x[1], reverse=True)) for k, v in sim_dict.items()}\n",
    "    \n",
    "    def get_recommendation(user):\n",
    "        \"\"\" 获取当前用户的推荐结果 \"\"\"\n",
    "        if user not in train:\n",
    "            print('user not exist: ', user)\n",
    "            return []\n",
    "        rec_items = {}\n",
    "        seen_items = set([i[0] for i in train[user]]) # 用户点击过得物品\n",
    "        for (item, _) in train[user]:\n",
    "            for sim_item, _ in sorted_sim_dict[item][:K]:\n",
    "                # 去掉用户见过的\n",
    "                if sim_item in seen_items:\n",
    "                    continue\n",
    "                if sim_item not in rec_items:\n",
    "                    rec_items[sim_item] = 0\n",
    "                rec_items[sim_item] += sim_dict[item][sim_item]\n",
    "        return list(sorted(rec_items.items(), key=lambda x: x[1], reverse=True))[:N]\n",
    "    return get_recommendation\n",
    "\n",
    "@timmer\n",
    "def itemIUF(train, K, N):\n",
    "    \"\"\" ItemCF with Inverse User Frequence\n",
    "    :param train 训练集\n",
    "    :params: K TopK相似用户/物品\n",
    "    :params: N 推荐物品个数TopN\n",
    "    \"\"\"\n",
    "    # 计算物品相似度矩阵\n",
    "    sim_dict = {}\n",
    "    num_dict = defaultdict(int) # item计数器\n",
    "    for user, item_time_list in tqdm(train.items()):\n",
    "        # 位置、itemID、点击时间\n",
    "        for loc1, (i, i_click_time) in enumerate(item_time_list):\n",
    "            num_dict[i] += 1\n",
    "            sim_dict.setdefault(i, {})\n",
    "            for loc2, (j, j_click_time) in enumerate(item_time_list):\n",
    "                if i==j:\n",
    "                    continue\n",
    "                sim_dict[i].setdefault(j, 0)\n",
    "                sim_dict[i][j] += 1 / math.log(1+len(item_time_list)) # 对用户热度进行惩罚\n",
    "    for i in sim_dict:\n",
    "        for j in sim_dict[i]:\n",
    "            sim_dict[i][j] /= math.sqrt(num_dict[i] * num_dict[j]) # 对物品热度进行惩罚\n",
    "            \n",
    "    # 按照物品相似度排序\n",
    "    sorted_sim_dict = {k: list(sorted(v.items(), key=lambda x: x[1], reverse=True)) for k, v in sim_dict.items()}\n",
    "    \n",
    "    def get_recommendation(user):\n",
    "        \"\"\" 获取当前用户的推荐结果 \"\"\"\n",
    "        if user not in train:\n",
    "            print('user not exist: ', user)\n",
    "            return []\n",
    "        rec_items = {}\n",
    "        seen_items = set([i[0] for i in train[user]]) # 用户点击过得物品\n",
    "        for (item, _) in train[user]:\n",
    "            for sim_item, _ in sorted_sim_dict[item][:K]:\n",
    "                # 去掉用户见过的\n",
    "                if sim_item in seen_items:\n",
    "                    continue\n",
    "                if sim_item not in rec_items:\n",
    "                    rec_items[sim_item] = 0\n",
    "                rec_items[sim_item] += sim_dict[item][sim_item]\n",
    "        return list(sorted(rec_items.items(), key=lambda x: x[1], reverse=True))[:N]\n",
    "    return get_recommendation\n",
    "\n",
    "@timmer\n",
    "def itemWeight(train, K, N):\n",
    "    \"\"\" ItemCF with Weight\n",
    "    :param train 训练集\n",
    "    :params: K TopK相似用户/物品\n",
    "    :params: N 推荐物品个数TopN\n",
    "    \"\"\"\n",
    "    # 计算物品相似度矩阵\n",
    "    sim_dict = {}\n",
    "    num_dict = defaultdict(int) # item计数器\n",
    "    for user, item_time_list in tqdm(train.items()):\n",
    "        # 位置、itemID、点击时间\n",
    "        for loc1, (i, i_click_time) in enumerate(item_time_list):\n",
    "            num_dict[i] += 1\n",
    "            sim_dict.setdefault(i, {})\n",
    "            for loc2, (j, j_click_time) in enumerate(item_time_list):\n",
    "                if i==j:\n",
    "                    continue\n",
    "                # 考虑正/反向顺序\n",
    "                loc_alpha = 1.0 if loc2 > loc1 else 0.7\n",
    "                # 考虑位置权重\n",
    "                loc_weight = loc_alpha * (0.9 ** (np.abs(loc2 - loc1) - 1))\n",
    "                # 点击时间权重\n",
    "                click_time_weight = np.exp(0.7 ** np.abs(i_click_time - j_click_time))\n",
    "                # 创建时间权重\n",
    "                # created_time_weight = np.exp(0.8 ** np.abs(item_created_time_dict[i] - item_created_time_dict[j]))\n",
    "                sim_dict[i].setdefault(j, 0)\n",
    "                sim_dict[i][j] += loc_weight * click_time_weight / math.log(1+len(item_time_list)) # 对用户热度进行惩罚\n",
    "    for i in sim_dict:\n",
    "        for j in sim_dict[i]:\n",
    "            sim_dict[i][j] /= math.sqrt(num_dict[i] * num_dict[j]) # 对物品热度进行惩罚\n",
    "            \n",
    "    # 按照物品相似度排序\n",
    "    sorted_sim_dict = {k: list(sorted(v.items(), key=lambda x: x[1], reverse=True)) for k, v in sim_dict.items()}\n",
    "    \n",
    "    def get_recommendation(user):\n",
    "        \"\"\" 获取当前用户的推荐结果 \"\"\"\n",
    "        if user not in train:\n",
    "            print('user not exist: ', user)\n",
    "            return []\n",
    "        rec_items = {}\n",
    "        seen_items = set([i[0] for i in train[user]]) # 用户点击过得物品\n",
    "        for (item, _) in train[user]:\n",
    "            for sim_item, _ in sorted_sim_dict[item][:K]:\n",
    "                # 去掉用户见过的\n",
    "                if sim_item in seen_items:\n",
    "                    continue\n",
    "                if sim_item not in rec_items:\n",
    "                    rec_items[sim_item] = 0\n",
    "                rec_items[sim_item] += sim_dict[item][sim_item]\n",
    "        return list(sorted(rec_items.items(), key=lambda x: x[1], reverse=True))[:N]\n",
    "    return get_recommendation"
   ]
  },
  {
   "cell_type": "markdown",
   "id": "8ad5ab68",
   "metadata": {},
   "source": [
    "##### UserCF"
   ]
  },
  {
   "cell_type": "code",
   "execution_count": 6,
   "id": "aec270ec",
   "metadata": {},
   "outputs": [],
   "source": [
    "@timmer\n",
    "def userCF(train, K, N):\n",
    "    \"\"\" userCF\n",
    "    :param train 训练集\n",
    "    :params: K TopK相似用户/物品\n",
    "    :params: N 推荐物品个数TopN\n",
    "    \"\"\"\n",
    "    # 计算用户相似度矩阵\n",
    "    sim_dict = {}\n",
    "    num_dict = defaultdict(int) # user计数器\n",
    "    \n",
    "    # 建立物品-用户矩阵\n",
    "    item_users_dict = {}\n",
    "    for user, item_time_list in tqdm(train.items()):\n",
    "        # 位置、itemID、点击时间\n",
    "        for loc, (i, i_click_time) in enumerate(item_time_list):\n",
    "            if i not in item_users_dict:\n",
    "                item_users_dict[i] = set()\n",
    "            item_users_dict[i].add(user)\n",
    "    \n",
    "    # 计算用户相似度矩阵\n",
    "    for item, users in tqdm(item_users_dict.items()):\n",
    "        for i in users:\n",
    "            num_dict[i] += 1\n",
    "            sim_dict.setdefault(i, {})\n",
    "            for j in users:\n",
    "                sim_dict[i].setdefault(j, 0)\n",
    "                sim_dict[i][j] += 1\n",
    "\n",
    "    for i in sim_dict:\n",
    "        for j in sim_dict[i]:\n",
    "            sim_dict[i][j] /= math.sqrt(num_dict[i] * num_dict[j])\n",
    "    \n",
    "    # 按照用户相似度排序\n",
    "    sorted_sim_dict = {k: list(sorted(v.items(), key=lambda x: x[1], reverse=True)) for k, v in sim_dict.items()}\n",
    "    \n",
    "    def get_recommendation(user):\n",
    "        \"\"\" 根据当前用户最相近的K个用户推荐N个物品 \"\"\"\n",
    "        if user not in train:\n",
    "            print('user not exist: ', user)\n",
    "            return []\n",
    "        rvi = 1\n",
    "        rec_items = {}\n",
    "        seen_items = set([i[0] for i in train[user]]) # 用户点击过的物品\n",
    "        for v, wuv in sorted_sim_dict[user][:K]:\n",
    "            for (item, _) in train[v]:\n",
    "                if item in seen_items:\n",
    "                    continue\n",
    "                if item not in rec_items:\n",
    "                    rec_items[item] = 0\n",
    "                rec_items[item] += wuv * rvi\n",
    "        return list(sorted(rec_items.items(), key=lambda x: x[1], reverse=True))[:N]\n",
    "\n",
    "    return get_recommendation\n",
    "\n",
    "@timmer\n",
    "def userIIF(train, K, N):\n",
    "    \"\"\" userIIF\n",
    "    :param train 训练集\n",
    "    :params: K TopK相似用户/物品\n",
    "    :params: N 推荐物品个数TopN\n",
    "    \"\"\"\n",
    "    # 计算用户相似度矩阵\n",
    "    sim_dict = {}\n",
    "    num_dict = defaultdict(int) # user计数器\n",
    "    \n",
    "    # 建立物品-用户矩阵\n",
    "    item_users_dict = {}\n",
    "    for user, item_time_list in tqdm(train.items()):\n",
    "        # 位置、itemID、点击时间\n",
    "        for loc, (i, i_click_time) in enumerate(item_time_list):\n",
    "            if i not in item_users_dict:\n",
    "                item_users_dict[i] = set()\n",
    "            item_users_dict[i].add(user)\n",
    "    \n",
    "    # 计算用户相似度矩阵\n",
    "    for item, users in tqdm(item_users_dict.items()):\n",
    "        for i in users:\n",
    "            num_dict[i] += 1\n",
    "            sim_dict.setdefault(i, {})\n",
    "            for j in users:\n",
    "                sim_dict[i].setdefault(j, 0)\n",
    "                sim_dict[i][j] += 1 / math.log(1+len(users)) # 对物品热度进行惩罚\n",
    "\n",
    "    for i in sim_dict:\n",
    "        for j in sim_dict[i]:\n",
    "            sim_dict[i][j] /= math.sqrt(num_dict[i] * num_dict[j])\n",
    "    \n",
    "    # 按照用户相似度排序\n",
    "    sorted_sim_dict = {k: list(sorted(v.items(), key=lambda x: x[1], reverse=True)) for k, v in sim_dict.items()}\n",
    "    \n",
    "    def get_recommendation(user):\n",
    "        \"\"\" 根据当前用户最相近的K个用户推荐N个物品 \"\"\"\n",
    "        if user not in train:\n",
    "            print('user not exist: ', user)\n",
    "            return []\n",
    "        rvi = 1\n",
    "        rec_items = {}\n",
    "        seen_items = set([i[0] for i in train[user]]) # 用户点击过的物品\n",
    "        for v, wuv in sorted_sim_dict[user][:K]:\n",
    "            for (item, _) in train[v]:\n",
    "                if item in seen_items:\n",
    "                    continue\n",
    "                if item not in rec_items:\n",
    "                    rec_items[item] = 0\n",
    "                rec_items[item] += wuv * rvi\n",
    "        return list(sorted(rec_items.items(), key=lambda x: x[1], reverse=True))[:N]\n",
    "\n",
    "    return get_recommendation"
   ]
  },
  {
   "cell_type": "markdown",
   "id": "7daec59f",
   "metadata": {},
   "source": [
    "##### 模型评估"
   ]
  },
  {
   "cell_type": "code",
   "execution_count": 7,
   "id": "4f603df6",
   "metadata": {},
   "outputs": [],
   "source": [
    "class Metric():\n",
    "    def __init__(self, train, test, get_recommendation):\n",
    "        \"\"\" 获取测试集所有用户的推荐结果，进行评估 \"\"\"\n",
    "        self.train = train\n",
    "        self.test = test\n",
    "        self.get_recommendation = get_recommendation\n",
    "        self.rec_result = self.get_rec_result()\n",
    "    \n",
    "    def get_rec_result(self):\n",
    "        \"\"\" 获取测试集推荐结果 \"\"\"\n",
    "        rec_result = {}\n",
    "        for user in tqdm(self.test):\n",
    "            rec_result[user] = self.get_recommendation(user)\n",
    "        return rec_result\n",
    "    \n",
    "    # {user1: [(item1, time1), (item2, time2)..]}\n",
    "    def precision(self):\n",
    "        \"\"\" 精确率，命中的item占所有推荐item的比例 \"\"\"\n",
    "        _hit, _all = 0, 0\n",
    "        for user in self.test:\n",
    "            items = set([i[0] for i in self.test[user]])\n",
    "            rank = self.rec_result[user]\n",
    "            for item, _ in rank:\n",
    "                if item in items:\n",
    "                    _hit += 1\n",
    "            _all += len(rank)\n",
    "        return round(_hit / _all * 100, 2)\n",
    "    \n",
    "    def recall(self):\n",
    "        \"\"\" 召回率，命中的item占所有真实点击item的比例 \"\"\"\n",
    "        _hit, _all = 0, 0\n",
    "        for user in self.test:\n",
    "            items = set([i[0] for i in self.test[user]])\n",
    "            rank = self.rec_result[user]\n",
    "            for item, _ in rank:\n",
    "                if item in items:\n",
    "                    _hit += 1\n",
    "            _all += len(items)\n",
    "        return round(_hit / _all * 100, 2)\n",
    "    \n",
    "    def coverage(self):\n",
    "        \"\"\" 覆盖率，推荐的item占所有商品的比例 \"\"\"\n",
    "        all_items, rec_items = set(), set()\n",
    "        for user in self.test:\n",
    "            for item in set([i[0] for i in self.train[user]]):\n",
    "                all_items.add(item)\n",
    "            rank = self.rec_result[user]\n",
    "            for item, _ in rank:\n",
    "                rec_items.add(item)\n",
    "        return round(len(rec_items) / len(all_items) * 100, 2)\n",
    "        \n",
    "    def popularity(self):\n",
    "        \"\"\" 流行度，衡量商品热度的方式 \"\"\"\n",
    "        item_popularity_dict = {}\n",
    "        for user in self.test:\n",
    "            for item in [i[0] for i in self.train[user]]:\n",
    "                if item not in item_popularity_dict:\n",
    "                    item_popularity_dict[item] = 0\n",
    "                item_popularity_dict[item] += 1\n",
    "        \n",
    "        _all, _p = 0, 0 # item数量 流行度\n",
    "        for user in self.test:\n",
    "            rank = self.rec_result[user]\n",
    "            for item, _ in rank:\n",
    "                _p += math.log(1+item_popularity_dict[item])\n",
    "                _all += 1\n",
    "        return round(_p / _all, 6)\n",
    "        \n",
    "    def eval(self):\n",
    "        \"\"\" 评估测试集各项指标 \"\"\"\n",
    "        model_metric = {\n",
    "            'Precision': self.precision(),\n",
    "            'Recall': self.recall(),\n",
    "            'Coverage': self.coverage(),\n",
    "            'Popularity': self.popularity(),\n",
    "        }\n",
    "        print('Metric:', model_metric)\n",
    "        return model_metric\n",
    "\n",
    "class Experiment():\n",
    "    def __init__(self, M, K, N, filepath, algname):\n",
    "        \"\"\"\n",
    "        :params: M 进行多少次实验\n",
    "        :params: K TopK相似用户/物品\n",
    "        :params: N 推荐物品个数TopN\n",
    "        :params: filepath 数据路径\n",
    "        :params: 算法名称\n",
    "        \"\"\"\n",
    "        self.M = M\n",
    "        self.K = K\n",
    "        self.N = N\n",
    "        self.filepath = filepath\n",
    "        self.algname = algname\n",
    "        self.alg = {\n",
    "            \"Random\": random_rec,\n",
    "            \"Hot\": hot_rec,\n",
    "            \"ItemCF\": itemCF,\n",
    "            \"ItemIUF\": itemIUF,\n",
    "            \"ItemWeight\": itemWeight,\n",
    "            \"UserCF\": userCF,\n",
    "            \"UserIIF\": userIIF\n",
    "        }\n",
    "    \n",
    "    @timmer\n",
    "    def single_run(self, train, test):\n",
    "        \"\"\"\n",
    "        :params: train 训练数据集\n",
    "        :params: test 测试数据集\n",
    "        :return: 各项指标\n",
    "        \"\"\"\n",
    "        get_recommendation = self.alg[self.algname](train, self.K, self.N)\n",
    "        metric = Metric(train, test, get_recommendation)\n",
    "        return metric.eval()\n",
    "    \n",
    "    @timmer\n",
    "    def run(self):\n",
    "        dataset = Dataset(self.filepath)\n",
    "        train, _test = dataset.split_data(self.M, k=1)\n",
    "        # 只保留有过历史行为的用户进行测试\n",
    "        test = {}\n",
    "        for k, v in _test.items():\n",
    "            if k in train.keys():\n",
    "                test[k] = _test[k]\n",
    "            else:\n",
    "                print('del test user: ', k)\n",
    "        \n",
    "        metric = self.single_run(train, test)"
   ]
  },
  {
   "cell_type": "code",
   "execution_count": 11,
   "id": "64b50929",
   "metadata": {},
   "outputs": [
    {
     "name": "stdout",
     "output_type": "stream",
     "text": [
      "=============== Random START ===============\n"
     ]
    },
    {
     "data": {
      "application/vnd.jupyter.widget-view+json": {
       "model_id": "2d062602d695449d897147995ed8b298",
       "version_major": 2,
       "version_minor": 0
      },
      "text/plain": [
       "  0%|          | 0/6040 [00:00<?, ?it/s]"
      ]
     },
     "metadata": {},
     "output_type": "display_data"
    },
    {
     "name": "stdout",
     "output_type": "stream",
     "text": [
      "Func random_rec, run time: 0.15259242057800293\n"
     ]
    },
    {
     "data": {
      "application/vnd.jupyter.widget-view+json": {
       "model_id": "60f5181f0a2149b99361612b7db07cd3",
       "version_major": 2,
       "version_minor": 0
      },
      "text/plain": [
       "  0%|          | 0/5994 [00:00<?, ?it/s]"
      ]
     },
     "metadata": {},
     "output_type": "display_data"
    },
    {
     "name": "stdout",
     "output_type": "stream",
     "text": [
      "Metric: {'Precision': 0.6, 'Recall': 0.29, 'Coverage': 100.0, 'Popularity': 4.405071}\n",
      "Func single_run, run time: 2.457427501678467\n",
      "Func run, run time: 7.701402425765991\n",
      "=============== Random END ===============\n",
      "\n",
      "=============== Hot START ===============\n"
     ]
    },
    {
     "data": {
      "application/vnd.jupyter.widget-view+json": {
       "model_id": "0e49f98c95bd4e30947185862e4b63e4",
       "version_major": 2,
       "version_minor": 0
      },
      "text/plain": [
       "  0%|          | 0/6040 [00:00<?, ?it/s]"
      ]
     },
     "metadata": {},
     "output_type": "display_data"
    },
    {
     "name": "stdout",
     "output_type": "stream",
     "text": [
      "Func hot_rec, run time: 0.1685488224029541\n"
     ]
    },
    {
     "data": {
      "application/vnd.jupyter.widget-view+json": {
       "model_id": "3401386f503c41fe8e20ccadf75c82fa",
       "version_major": 2,
       "version_minor": 0
      },
      "text/plain": [
       "  0%|          | 0/5994 [00:00<?, ?it/s]"
      ]
     },
     "metadata": {},
     "output_type": "display_data"
    },
    {
     "name": "stdout",
     "output_type": "stream",
     "text": [
      "Metric: {'Precision': 12.97, 'Recall': 6.22, 'Coverage': 2.47, 'Popularity': 7.718132}\n",
      "Func single_run, run time: 10.86371660232544\n",
      "Func run, run time: 16.204662084579468\n",
      "=============== Hot END ===============\n",
      "\n",
      "=============== ItemCF START ===============\n"
     ]
    },
    {
     "data": {
      "application/vnd.jupyter.widget-view+json": {
       "model_id": "02f18de6bd67458285f8ba1530c2b580",
       "version_major": 2,
       "version_minor": 0
      },
      "text/plain": [
       "  0%|          | 0/6040 [00:00<?, ?it/s]"
      ]
     },
     "metadata": {},
     "output_type": "display_data"
    },
    {
     "name": "stdout",
     "output_type": "stream",
     "text": [
      "Func itemCF, run time: 111.91621017456055\n"
     ]
    },
    {
     "data": {
      "application/vnd.jupyter.widget-view+json": {
       "model_id": "d6b28d6104c34365a8658272ab392bd8",
       "version_major": 2,
       "version_minor": 0
      },
      "text/plain": [
       "  0%|          | 0/5994 [00:00<?, ?it/s]"
      ]
     },
     "metadata": {},
     "output_type": "display_data"
    },
    {
     "name": "stdout",
     "output_type": "stream",
     "text": [
      "Metric: {'Precision': 21.82, 'Recall': 10.46, 'Coverage': 19.54, 'Popularity': 7.224026}\n",
      "Func single_run, run time: 116.18641924858093\n",
      "Func run, run time: 121.39693021774292\n",
      "=============== ItemCF END ===============\n",
      "\n",
      "=============== ItemIUF START ===============\n"
     ]
    },
    {
     "data": {
      "application/vnd.jupyter.widget-view+json": {
       "model_id": "540cdb63987349628ae629f64506d9f6",
       "version_major": 2,
       "version_minor": 0
      },
      "text/plain": [
       "  0%|          | 0/6040 [00:00<?, ?it/s]"
      ]
     },
     "metadata": {},
     "output_type": "display_data"
    },
    {
     "name": "stdout",
     "output_type": "stream",
     "text": [
      "Func itemIUF, run time: 208.0548927783966\n"
     ]
    },
    {
     "data": {
      "application/vnd.jupyter.widget-view+json": {
       "model_id": "34fb00e0c96341fab01b6c3d5340da87",
       "version_major": 2,
       "version_minor": 0
      },
      "text/plain": [
       "  0%|          | 0/5994 [00:00<?, ?it/s]"
      ]
     },
     "metadata": {},
     "output_type": "display_data"
    },
    {
     "name": "stdout",
     "output_type": "stream",
     "text": [
      "Metric: {'Precision': 22.45, 'Recall': 10.76, 'Coverage': 17.67, 'Popularity': 7.343012}\n",
      "Func single_run, run time: 212.98111820220947\n",
      "Func run, run time: 218.3597617149353\n",
      "=============== ItemIUF END ===============\n",
      "\n",
      "=============== ItemWeight START ===============\n"
     ]
    },
    {
     "data": {
      "application/vnd.jupyter.widget-view+json": {
       "model_id": "3b17081a3b3f4b2d90ca097bfba46eb3",
       "version_major": 2,
       "version_minor": 0
      },
      "text/plain": [
       "  0%|          | 0/6040 [00:00<?, ?it/s]"
      ]
     },
     "metadata": {},
     "output_type": "display_data"
    },
    {
     "name": "stdout",
     "output_type": "stream",
     "text": [
      "Func itemWeight, run time: 2673.6163368225098\n"
     ]
    },
    {
     "data": {
      "application/vnd.jupyter.widget-view+json": {
       "model_id": "7f972135c4234500935f6d4c8798e601",
       "version_major": 2,
       "version_minor": 0
      },
      "text/plain": [
       "  0%|          | 0/5994 [00:00<?, ?it/s]"
      ]
     },
     "metadata": {},
     "output_type": "display_data"
    },
    {
     "name": "stdout",
     "output_type": "stream",
     "text": [
      "Metric: {'Precision': 21.01, 'Recall': 10.07, 'Coverage': 28.39, 'Popularity': 6.927734}\n",
      "Func single_run, run time: 2681.159425973892\n",
      "Func run, run time: 2686.8138329982758\n",
      "=============== ItemWeight END ===============\n",
      "\n",
      "=============== UserCF START ===============\n"
     ]
    },
    {
     "data": {
      "application/vnd.jupyter.widget-view+json": {
       "model_id": "bb2cce97ac1742a7a3303534f7d8f3cb",
       "version_major": 2,
       "version_minor": 0
      },
      "text/plain": [
       "  0%|          | 0/6040 [00:00<?, ?it/s]"
      ]
     },
     "metadata": {},
     "output_type": "display_data"
    },
    {
     "data": {
      "application/vnd.jupyter.widget-view+json": {
       "model_id": "1e8b10c9ec2e4c77a391c0b34d1a5677",
       "version_major": 2,
       "version_minor": 0
      },
      "text/plain": [
       "  0%|          | 0/3685 [00:00<?, ?it/s]"
      ]
     },
     "metadata": {},
     "output_type": "display_data"
    },
    {
     "name": "stdout",
     "output_type": "stream",
     "text": [
      "Func userCF, run time: 169.69799041748047\n"
     ]
    },
    {
     "data": {
      "application/vnd.jupyter.widget-view+json": {
       "model_id": "064a30394cd64d1ab71c136dba7452f8",
       "version_major": 2,
       "version_minor": 0
      },
      "text/plain": [
       "  0%|          | 0/5994 [00:00<?, ?it/s]"
      ]
     },
     "metadata": {},
     "output_type": "display_data"
    },
    {
     "name": "stdout",
     "output_type": "stream",
     "text": [
      "Metric: {'Precision': 20.22, 'Recall': 9.7, 'Coverage': 42.99, 'Popularity': 6.959068}\n",
      "Func single_run, run time: 175.29202723503113\n",
      "Func run, run time: 180.80291604995728\n",
      "=============== UserCF END ===============\n",
      "\n",
      "=============== UserIIF START ===============\n"
     ]
    },
    {
     "data": {
      "application/vnd.jupyter.widget-view+json": {
       "model_id": "a4e46819943c47278bb54e19f6b00e6b",
       "version_major": 2,
       "version_minor": 0
      },
      "text/plain": [
       "  0%|          | 0/6040 [00:00<?, ?it/s]"
      ]
     },
     "metadata": {},
     "output_type": "display_data"
    },
    {
     "data": {
      "application/vnd.jupyter.widget-view+json": {
       "model_id": "f99d9db7761349f7817f5513714ed1f0",
       "version_major": 2,
       "version_minor": 0
      },
      "text/plain": [
       "  0%|          | 0/3685 [00:00<?, ?it/s]"
      ]
     },
     "metadata": {},
     "output_type": "display_data"
    },
    {
     "name": "stdout",
     "output_type": "stream",
     "text": [
      "Func userIIF, run time: 343.42542815208435\n"
     ]
    },
    {
     "data": {
      "application/vnd.jupyter.widget-view+json": {
       "model_id": "c308d85ba5554e168897cf8c946587e7",
       "version_major": 2,
       "version_minor": 0
      },
      "text/plain": [
       "  0%|          | 0/5994 [00:00<?, ?it/s]"
      ]
     },
     "metadata": {},
     "output_type": "display_data"
    },
    {
     "name": "stdout",
     "output_type": "stream",
     "text": [
      "Metric: {'Precision': 19.89, 'Recall': 9.54, 'Coverage': 45.4, 'Popularity': 6.902531}\n",
      "Func single_run, run time: 349.8010346889496\n",
      "Func run, run time: 355.2654721736908\n",
      "=============== UserIIF END ===============\n",
      "\n"
     ]
    }
   ],
   "source": [
    "# 将数据集划分为8折，根据K个相似项中推荐N个物品\n",
    "M, N, K = 8, 10, 10\n",
    "file_path = '../data/ml-1m/ratings.dat'\n",
    "\n",
    "# 模型评估\n",
    "ALGS = [\"Random\", \"Hot\", \"ItemCF\", \"ItemIUF\", \"ItemWeight\", \"UserCF\", \"UserIIF\"]\n",
    "\n",
    "for alg in ALGS:\n",
    "    print(f'=============== {alg} START ===============')\n",
    "    exp = Experiment(M, K, N, file_path, alg)\n",
    "    exp.run()\n",
    "    print(f'=============== {alg} END ===============\\n')"
   ]
  },
  {
   "cell_type": "markdown",
   "id": "046bb75b",
   "metadata": {},
   "source": [
    "##### 评估指标\n",
    "\n",
    "| Mode  | 场景 |  优点 |  缺点 | 精确率 | 召回率 | 覆盖率 | 流行度 |\n",
    "| :-------------------: |:-------------------: |:-------------------: |:-------------------: |:-------------------: |:-------------------: |:-------------------: |:-------------------: |\n",
    "| **Random** | - | - | - | 0.6 | 0.29 | 100.0 | 4.405 |\n",
    "| **Hot** | 多路召回中常作为补足策略对召回候选进行补足。 | - | - | 12.97 | 6.22 | 2.47 | 7.7181 |\n",
    "| **UserCF** | 基于用户相似度进行推荐，具有很强的社交属性，适合兴趣变化快的应用，例如短视频、新闻等。 | 简单有效 | 推荐结果的头部效应明显，泛化能力弱 | 20.22 | 9.7 | 42.99 | 6.959 |\n",
    "| **UserCF-IIF** | - | - | - | 19.89 | 9.54 | 45.4 | 6.903 |\n",
    "| **ItemCF** | 基于物品相似度的推荐算法，适合兴趣变化稳定的应用，例如电商、电影、关卡等 | 简单有效 | 推荐结果的头部效应明显，泛化能力弱 | 21.82 | 10.46 | 19.54 | 7.224 |\n",
    "| **ItemCF-IUF** | - | - | - | 22.45 | 10.76 | 17.67 | 7.343 |\n",
    "| **ItemCF-Weight** | - | - | - | 21.01 | 10.07 | 28.39 | 6.928 |\n",
    "\n",
    "在该电影推荐场景中，ItemCF-IUF算法的PR效果最好。"
   ]
  },
  {
   "cell_type": "code",
   "execution_count": null,
   "id": "d048c73c",
   "metadata": {},
   "outputs": [],
   "source": []
  }
 ],
 "metadata": {
  "kernelspec": {
   "display_name": "Python 3",
   "language": "python",
   "name": "python3"
  },
  "language_info": {
   "codemirror_mode": {
    "name": "ipython",
    "version": 3
   },
   "file_extension": ".py",
   "mimetype": "text/x-python",
   "name": "python",
   "nbconvert_exporter": "python",
   "pygments_lexer": "ipython3",
   "version": "3.6.13"
  }
 },
 "nbformat": 4,
 "nbformat_minor": 5
}
