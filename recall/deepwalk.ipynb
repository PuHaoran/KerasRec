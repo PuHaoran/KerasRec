{
 "cells": [
  {
   "cell_type": "code",
   "execution_count": 1,
   "id": "436e1ab7",
   "metadata": {},
   "outputs": [
    {
     "name": "stderr",
     "output_type": "stream",
     "text": [
      "C:\\SoftwareInstall\\Anaconda\\envs\\py36\\lib\\site-packages\\gensim\\similarities\\__init__.py:15: UserWarning: The gensim.similarities.levenshtein submodule is disabled, because the optional Levenshtein package <https://pypi.org/project/python-Levenshtein/> is unavailable. Install Levenhstein (e.g. `pip install python-Levenshtein`) to suppress this warning.\n",
      "  warnings.warn(msg)\n"
     ]
    }
   ],
   "source": [
    "import os\n",
    "import faiss\n",
    "import random\n",
    "import numpy as np\n",
    "import pandas as pd\n",
    "from collections import namedtuple\n",
    "from tqdm import tqdm_notebook as tqdm\n",
    "\n",
    "import tensorflow as tf\n",
    "from tensorflow.keras.layers import *\n",
    "from tensorflow.keras.models import *\n",
    "from tensorflow.python.keras.callbacks import EarlyStopping\n",
    "from sklearn.preprocessing import  MinMaxScaler, LabelEncoder\n",
    "\n",
    "from sklearn import metrics\n",
    "from sklearn.metrics import log_loss\n",
    "from sklearn.metrics import classification_report, roc_curve\n",
    "\n",
    "from gensim.models import Word2Vec \n",
    "\n",
    "import warnings\n",
    "warnings.filterwarnings(\"ignore\")"
   ]
  },
  {
   "cell_type": "markdown",
   "id": "6dfc3bea",
   "metadata": {},
   "source": [
    "##### 获取数据"
   ]
  },
  {
   "cell_type": "code",
   "execution_count": 12,
   "id": "56c5b277",
   "metadata": {},
   "outputs": [
    {
     "data": {
      "text/html": [
       "<div>\n",
       "<style scoped>\n",
       "    .dataframe tbody tr th:only-of-type {\n",
       "        vertical-align: middle;\n",
       "    }\n",
       "\n",
       "    .dataframe tbody tr th {\n",
       "        vertical-align: top;\n",
       "    }\n",
       "\n",
       "    .dataframe thead th {\n",
       "        text-align: right;\n",
       "    }\n",
       "</style>\n",
       "<table border=\"1\" class=\"dataframe\">\n",
       "  <thead>\n",
       "    <tr style=\"text-align: right;\">\n",
       "      <th></th>\n",
       "      <th>user_id</th>\n",
       "      <th>hist_item_id</th>\n",
       "      <th>hist_s1</th>\n",
       "      <th>hist_s2</th>\n",
       "      <th>item_id</th>\n",
       "      <th>label</th>\n",
       "      <th>rating</th>\n",
       "      <th>click_timestamp</th>\n",
       "      <th>hist_len</th>\n",
       "      <th>gender</th>\n",
       "      <th>age</th>\n",
       "      <th>item_date</th>\n",
       "      <th>item_title</th>\n",
       "      <th>item_cate_id</th>\n",
       "    </tr>\n",
       "  </thead>\n",
       "  <tbody>\n",
       "    <tr>\n",
       "      <th>0</th>\n",
       "      <td>3453</td>\n",
       "      <td>3484,2295,2330,1839,58,1063,3733,3024,3049,110...</td>\n",
       "      <td>143,3859,275,1506,2474,3105,3510,3248,2225,220...</td>\n",
       "      <td>2327,2633,3316,2694,3657,2386,656,1114,3382,25...</td>\n",
       "      <td>3090</td>\n",
       "      <td>1</td>\n",
       "      <td>2</td>\n",
       "      <td>979932664</td>\n",
       "      <td>50</td>\n",
       "      <td>1</td>\n",
       "      <td>4</td>\n",
       "      <td>80</td>\n",
       "      <td>4351,19,12,4352,26,4353,3770,2015,4354,3691,0,...</td>\n",
       "      <td>8</td>\n",
       "    </tr>\n",
       "    <tr>\n",
       "      <th>3</th>\n",
       "      <td>1218</td>\n",
       "      <td>769,1247,587,429,1394,2992,3460,2736,1257,1231...</td>\n",
       "      <td>1848,2596,596,398,2503,3111,3289,377,3824,3828...</td>\n",
       "      <td>1484,584,1492,514,1283,1360,2126,2177,424,3015...</td>\n",
       "      <td>2272</td>\n",
       "      <td>1</td>\n",
       "      <td>3</td>\n",
       "      <td>992633493</td>\n",
       "      <td>50</td>\n",
       "      <td>1</td>\n",
       "      <td>7</td>\n",
       "      <td>79</td>\n",
       "      <td>1678,3388,208,0,0,0,0,0,0,0,0,0,0,0,0</td>\n",
       "      <td>14</td>\n",
       "    </tr>\n",
       "    <tr>\n",
       "      <th>4</th>\n",
       "      <td>4744</td>\n",
       "      <td>3046,1233,958,1179,3091,1211,1212,1208,1191,94...</td>\n",
       "      <td>3099,2298,2861,711,3744,2086,587,591,2082,2724...</td>\n",
       "      <td>2849,1069,848,1248,477,1181,1190,1259,2727,334...</td>\n",
       "      <td>2272</td>\n",
       "      <td>1</td>\n",
       "      <td>4</td>\n",
       "      <td>1038923883</td>\n",
       "      <td>50</td>\n",
       "      <td>1</td>\n",
       "      <td>6</td>\n",
       "      <td>79</td>\n",
       "      <td>1678,3388,208,0,0,0,0,0,0,0,0,0,0,0,0</td>\n",
       "      <td>14</td>\n",
       "    </tr>\n",
       "    <tr>\n",
       "      <th>8</th>\n",
       "      <td>5248</td>\n",
       "      <td>2287,3290,1063,2106,3187,1016,2793,1596,2850,8...</td>\n",
       "      <td>7,1943,3382,1843,2402,2338,1530,1855,820,2303,...</td>\n",
       "      <td>1721,2356,2554,465,1203,1360,143,594,720,2702,...</td>\n",
       "      <td>2490</td>\n",
       "      <td>1</td>\n",
       "      <td>3</td>\n",
       "      <td>961365313</td>\n",
       "      <td>50</td>\n",
       "      <td>2</td>\n",
       "      <td>5</td>\n",
       "      <td>80</td>\n",
       "      <td>3627,11,43,0,0,0,0,0,0,0,0,0,0,0,0</td>\n",
       "      <td>5</td>\n",
       "    </tr>\n",
       "    <tr>\n",
       "      <th>9</th>\n",
       "      <td>6014</td>\n",
       "      <td>492,2694,1371,2008,967,2882,1203,1989,1569,337...</td>\n",
       "      <td>2878,2589,1010,1016,1184,3380,1196,3176,1657,1...</td>\n",
       "      <td>1269,907,927,1879,2903,1017,1023,585,2993,2873...</td>\n",
       "      <td>1664</td>\n",
       "      <td>1</td>\n",
       "      <td>3</td>\n",
       "      <td>956780780</td>\n",
       "      <td>50</td>\n",
       "      <td>1</td>\n",
       "      <td>5</td>\n",
       "      <td>78</td>\n",
       "      <td>1497,132,12,1536,11,891,19,1388,0,0,0,0,0,0,0</td>\n",
       "      <td>5</td>\n",
       "    </tr>\n",
       "  </tbody>\n",
       "</table>\n",
       "</div>"
      ],
      "text/plain": [
       "   user_id                                       hist_item_id  \\\n",
       "0     3453  3484,2295,2330,1839,58,1063,3733,3024,3049,110...   \n",
       "3     1218  769,1247,587,429,1394,2992,3460,2736,1257,1231...   \n",
       "4     4744  3046,1233,958,1179,3091,1211,1212,1208,1191,94...   \n",
       "8     5248  2287,3290,1063,2106,3187,1016,2793,1596,2850,8...   \n",
       "9     6014  492,2694,1371,2008,967,2882,1203,1989,1569,337...   \n",
       "\n",
       "                                             hist_s1  \\\n",
       "0  143,3859,275,1506,2474,3105,3510,3248,2225,220...   \n",
       "3  1848,2596,596,398,2503,3111,3289,377,3824,3828...   \n",
       "4  3099,2298,2861,711,3744,2086,587,591,2082,2724...   \n",
       "8  7,1943,3382,1843,2402,2338,1530,1855,820,2303,...   \n",
       "9  2878,2589,1010,1016,1184,3380,1196,3176,1657,1...   \n",
       "\n",
       "                                             hist_s2  item_id  label  rating  \\\n",
       "0  2327,2633,3316,2694,3657,2386,656,1114,3382,25...     3090      1       2   \n",
       "3  1484,584,1492,514,1283,1360,2126,2177,424,3015...     2272      1       3   \n",
       "4  2849,1069,848,1248,477,1181,1190,1259,2727,334...     2272      1       4   \n",
       "8  1721,2356,2554,465,1203,1360,143,594,720,2702,...     2490      1       3   \n",
       "9  1269,907,927,1879,2903,1017,1023,585,2993,2873...     1664      1       3   \n",
       "\n",
       "   click_timestamp  hist_len  gender  age  item_date  \\\n",
       "0        979932664        50       1    4         80   \n",
       "3        992633493        50       1    7         79   \n",
       "4       1038923883        50       1    6         79   \n",
       "8        961365313        50       2    5         80   \n",
       "9        956780780        50       1    5         78   \n",
       "\n",
       "                                          item_title  item_cate_id  \n",
       "0  4351,19,12,4352,26,4353,3770,2015,4354,3691,0,...             8  \n",
       "3              1678,3388,208,0,0,0,0,0,0,0,0,0,0,0,0            14  \n",
       "4              1678,3388,208,0,0,0,0,0,0,0,0,0,0,0,0            14  \n",
       "8                 3627,11,43,0,0,0,0,0,0,0,0,0,0,0,0             5  \n",
       "9      1497,132,12,1536,11,891,19,1388,0,0,0,0,0,0,0             5  "
      ]
     },
     "execution_count": 12,
     "metadata": {},
     "output_type": "execute_result"
    }
   ],
   "source": [
    "train_df = pd.read_csv('../data/ml-1m/train_df.csv')\n",
    "train_df = train_df[train_df.label==1]\n",
    "train_df = train_df.sort_values(['user_id', 'click_timestamp'])\n",
    "\n",
    "test_df = pd.read_csv('../data/ml-1m/test_df.csv')\n",
    "test_df = test_df[test_df.label==1]\n",
    "test_df.head()"
   ]
  },
  {
   "cell_type": "markdown",
   "id": "5feb5a15",
   "metadata": {},
   "source": [
    "##### DeepWalk\n",
    "\n",
    "DeepWalk是将随机游走和word2vec结合起来的图向量表示算法。"
   ]
  },
  {
   "cell_type": "code",
   "execution_count": 8,
   "id": "0ac25cb8",
   "metadata": {},
   "outputs": [
    {
     "data": {
      "application/vnd.jupyter.widget-view+json": {
       "model_id": "fbc8a6b0f3f543799ff248071cdaf4fa",
       "version_major": 2,
       "version_minor": 0
      },
      "text/plain": [
       "  0%|          | 0/6040 [00:00<?, ?it/s]"
      ]
     },
     "metadata": {},
     "output_type": "display_data"
    },
    {
     "data": {
      "application/vnd.jupyter.widget-view+json": {
       "model_id": "bf157fbe2bc54d338e50b6eda7c7d2cc",
       "version_major": 2,
       "version_minor": 0
      },
      "text/plain": [
       "  0%|          | 0/3700 [00:00<?, ?it/s]"
      ]
     },
     "metadata": {},
     "output_type": "display_data"
    },
    {
     "data": {
      "application/vnd.jupyter.widget-view+json": {
       "model_id": "3beaa4c1be8d4b2ca2bd65305178aa0a",
       "version_major": 2,
       "version_minor": 0
      },
      "text/plain": [
       "  0%|          | 0/3700 [00:00<?, ?it/s]"
      ]
     },
     "metadata": {},
     "output_type": "display_data"
    },
    {
     "data": {
      "application/vnd.jupyter.widget-view+json": {
       "model_id": "07240e62b5a54d9bb3fe5f9dede4ca5b",
       "version_major": 2,
       "version_minor": 0
      },
      "text/plain": [
       "  0%|          | 0/3700 [00:00<?, ?it/s]"
      ]
     },
     "metadata": {},
     "output_type": "display_data"
    },
    {
     "data": {
      "application/vnd.jupyter.widget-view+json": {
       "model_id": "5bda58c95cf34591a9707d00bc393916",
       "version_major": 2,
       "version_minor": 0
      },
      "text/plain": [
       "  0%|          | 0/3700 [00:00<?, ?it/s]"
      ]
     },
     "metadata": {},
     "output_type": "display_data"
    },
    {
     "data": {
      "application/vnd.jupyter.widget-view+json": {
       "model_id": "0aebbc3a80ab49fab3a531bfa0b125ad",
       "version_major": 2,
       "version_minor": 0
      },
      "text/plain": [
       "  0%|          | 0/3700 [00:00<?, ?it/s]"
      ]
     },
     "metadata": {},
     "output_type": "display_data"
    },
    {
     "name": "stdout",
     "output_type": "stream",
     "text": [
      "random_walks len:  18500\n",
      "train done...\n"
     ]
    }
   ],
   "source": [
    "data = train_df.copy()\n",
    "sentences = data.groupby(['user_id'])['item_id'].agg({list}).reset_index()['list'].values.tolist()\n",
    "\n",
    "# 构建一个图，dict的健为节点，值为节点邻居。\n",
    "graph_dict = {}\n",
    "# 提取共现商品\n",
    "for sentence in tqdm(sentences):\n",
    "    sentence_len = len(sentence)\n",
    "    for position, item_id in enumerate(sentence):\n",
    "        # 提取窗口内的组合商品\n",
    "        for i in range(position-1, position+2):\n",
    "            if (i<0) | (i>=sentence_len) | (i==position):\n",
    "                continue\n",
    "            if item_id not in graph_dict:\n",
    "                graph_dict[item_id] = [sentence[i]]\n",
    "            else:\n",
    "                graph_dict[item_id].append(sentence[i])\n",
    "                \n",
    "def get_random_walk(node, path_length=10):\n",
    "    \"\"\" 从当前节点随机游走 \"\"\"\n",
    "    random_walk = [node]\n",
    "    while len(random_walk) <= path_length:\n",
    "        cur = random_walk[-1]\n",
    "        _neighbours = graph_dict[cur]\n",
    "        random_walk.append(random.choice(_neighbours))\n",
    "    return random_walk\n",
    "    # 尝试游走过的节点不再游走\n",
    "#     while len(random_walk) <= path_length:\n",
    "#         cur = random_walk[-1]\n",
    "#         _neighbours = list(set(graph_dict[cur])-set(random_walk))\n",
    "#         if len(_neighbours) == 0:\n",
    "#             break\n",
    "#         random_walk.append(random.choice(_neighbours))\n",
    "#     return random_walk    \n",
    "\n",
    "random_walks = []\n",
    "# 遍历所有节点\n",
    "nodes = list(graph_dict.keys())\n",
    "\n",
    "# 每个节点随机游走5次，即从当前节点产生5条随机游走序列\n",
    "for i in range(5): \n",
    "    random.shuffle(nodes)\n",
    "    for node in tqdm(nodes):\n",
    "        random_walks.append(get_random_walk(node, path_length=20))\n",
    "\n",
    "print('random_walks len: ', len(random_walks))\n",
    "w2v_size = 4\n",
    "\n",
    "# 训练word2vec\n",
    "model = Word2Vec(random_walks,\n",
    "                 vector_size=w2v_size,\n",
    "                 window=10,\n",
    "                 min_count=1,\n",
    "                 workers=-1,\n",
    "                 seed=1024,\n",
    "                 sg=1,\n",
    "                 epochs=10)\n",
    "print('train done...')\n",
    "\n",
    "# 保存embedding矩阵\n",
    "vocab = list(model.wv.index_to_key)\n",
    "w2v_arr = []\n",
    "for w in vocab:\n",
    "    w2v_arr.append(list(model.wv[w]))\n",
    "    \n",
    "w2v_df = pd.DataFrame()\n",
    "w2v_df['item_id'] = vocab\n",
    "w2v_df['vector'] = w2v_arr\n",
    "\n",
    "# 保存为dict字典\n",
    "w2v_dict = dict(zip(w2v_df['item_id'].tolist(), w2v_df['vector'].tolist()))"
   ]
  },
  {
   "cell_type": "code",
   "execution_count": 9,
   "id": "4e8fbcf3",
   "metadata": {},
   "outputs": [],
   "source": [
    "# 2. 计算用户兴趣向量。\n",
    "user_emb_list = np.array([[0.0]*4 for _ in range(test_df.shape[0])])\n",
    "test_df['items'] = test_df['hist_item_id'].apply(lambda x: [int(i) for i in x.split(',')])\n",
    "for idx, items in enumerate(test_df['items'].values):\n",
    "    num = 0\n",
    "    for item in items[-10:]:\n",
    "        try:\n",
    "            user_emb_list[idx] += np.array(w2v_dict[item])\n",
    "            num += 1\n",
    "            if w2v_dict[item][0] == 0:\n",
    "                num -= 1\n",
    "        except:\n",
    "            pass\n",
    "    if num != 0:\n",
    "        user_emb_list[idx] /= num"
   ]
  },
  {
   "cell_type": "code",
   "execution_count": 10,
   "id": "983d2e0f",
   "metadata": {},
   "outputs": [],
   "source": [
    "# 3. 向量检索，faiss求topN相似物品。\n",
    "embedding_size = 4\n",
    "index = faiss.IndexFlatIP(embedding_size)\n",
    "index.add(np.array(w2v_df['vector'].tolist()).astype('float32'))\n",
    "D, I = index.search(user_emb_list.astype('float32'), 200)"
   ]
  },
  {
   "cell_type": "code",
   "execution_count": 11,
   "id": "eff86426",
   "metadata": {},
   "outputs": [
    {
     "data": {
      "application/vnd.jupyter.widget-view+json": {
       "model_id": "5e4fb9eb38574a70bc13a1ecbac10751",
       "version_major": 2,
       "version_minor": 0
      },
      "text/plain": [
       "0it [00:00, ?it/s]"
      ]
     },
     "metadata": {},
     "output_type": "display_data"
    },
    {
     "name": "stdout",
     "output_type": "stream",
     "text": [
      "recall:  0.04586092715231788\n"
     ]
    }
   ],
   "source": [
    "# 4. 评估召回结果。\n",
    "def get_recall(true_y, pred_y, top_n=50):\n",
    "    \"\"\" 召回率 \"\"\"\n",
    "    return len(set(pred_y[:top_n])&set(true_y)) * 1.0 / len(true_y)\n",
    "\n",
    "recall_list = []\n",
    "for i, uid in tqdm(enumerate(test_df['user_id'])):\n",
    "    preds = [w2v_df['item_id'].values[j] for j in I[i]]\n",
    "    preds = [pred for pred in preds if pred not in test_df.iloc[idx]['items']]\n",
    "    recall = get_recall([test_df['item_id'].values[i]], preds, top_n=50)\n",
    "    recall_list.append(recall)\n",
    "\n",
    "print('recall: ', np.mean(recall_list))"
   ]
  },
  {
   "cell_type": "code",
   "execution_count": null,
   "id": "63e54bb2",
   "metadata": {},
   "outputs": [],
   "source": []
  }
 ],
 "metadata": {
  "kernelspec": {
   "display_name": "Python 3",
   "language": "python",
   "name": "python3"
  },
  "language_info": {
   "codemirror_mode": {
    "name": "ipython",
    "version": 3
   },
   "file_extension": ".py",
   "mimetype": "text/x-python",
   "name": "python",
   "nbconvert_exporter": "python",
   "pygments_lexer": "ipython3",
   "version": "3.6.13"
  }
 },
 "nbformat": 4,
 "nbformat_minor": 5
}
