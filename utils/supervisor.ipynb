{
 "cells": [
  {
   "cell_type": "markdown",
   "id": "5fa7be41",
   "metadata": {
    "pycharm": {
     "name": "#%% md\n"
    }
   },
   "source": [
    "## Supervisor\n",
    "\n",
    "Supervisor是python开发的管理unix操作系统进程管理工具，用来监听、启动、停止、重启一个或多个进程。当supervisort监听到进程意外挂掉，会自动进行进程恢复。PS：该工具仅支持python2环境。\n",
    "\n",
    "在推荐系统中flume日志收集与离线更新均可使用该工具。一般我们使用supervisor进程管理+APScheduler任务调度配合在在一起使用来完成离线相关任务的定时和进程管理。首先scheduler定时启动python程序(这一步类似crontab)；然后supervisor管理相应的scheduler进程，包括：监听、自动重启等功能。\n",
    "\n",
    "##### 安装\n",
    "\n",
    "yum -y install epel-release\n",
    "\n",
    "sudo yum install python-pip\n",
    "\n",
    "pip install supervisor\n",
    "\n",
    "##### 配置\n",
    "\n",
    "echo_supervisord_conf > supervisord.conf\n",
    "\n",
    "vim打开supervisord.conf，修改\n",
    "\n",
    "    ;[include]\n",
    "    ;files = relative/directory/*.ini\n",
    "\n",
    "为\n",
    "\n",
    "    ;[include]\n",
    "    files = /etc/supervisor/*.conf\n",
    "\n",
    "将该配置文件添加到etc目录，然后新建推荐项目相关的配置文件。\n",
    "\n",
    "sudo cp supervisord.conf /etc/\n",
    "\n",
    "vim /etc/supervisor/rec.conf"
   ]
  },
  {
   "cell_type": "code",
   "execution_count": null,
   "id": "ec337e54",
   "metadata": {},
   "outputs": [],
   "source": [
    "[program:test]\n",
    "command=/root/anaconda3/envs/py36/bin/python /root/KerasRec/utils/scheduler.py\n",
    "directory=/root/KerasRec/utils\n",
    "user=root\n",
    "autorestart=true\n",
    "redirect_stderr=true\n",
    "stdout_logfile=/root/logs/test.log\n",
    "loglevel=info\n",
    "stopsignal=KILL\n",
    "stopasgroup=true\n",
    "killasgroup=true"
   ]
  },
  {
   "cell_type": "raw",
   "id": "ff170689",
   "metadata": {},
   "source": [
    "[program:offline]\n",
    "environment=JAVA_HOME=/root/bigdata/jdk,SPARK_HOME=/root/bigdata/spark,HADOOP_HOME=/root/bigdata/hadoop,PYSPARK_PYTHON=/miniconda2/envs/reco_sys/bin/python,PYSPARK_DRIVER_PYTHON=/miniconda2/envs/reco_sys/bin/python\n",
    "command=/miniconda2/envs/reco_sys/bin/python /root/toutiao_project/scheduler/main.py\n",
    "directory=/root/toutiao_project/scheduler\n",
    "user=root\n",
    "autorestart=true\n",
    "redirect_stderr=true\n",
    "stdout_logfile=/root/logs/offlinesuper.log\n",
    "loglevel=info\n",
    "stopsignal=KILL\n",
    "stopasgroup=true\n",
    "killasgroup=true"
   ]
  },
  {
   "cell_type": "markdown",
   "id": "2db7114b",
   "metadata": {},
   "source": [
    "开启supervisor\n",
    "\n",
    "supervisord -c /etc/supervisord.conf\n",
    "\n",
    "执行supervisorctl，进入进程管理客户端。\n",
    "\n",
    "    > status # 查看进程状态\n",
    "    > start test # 启动进程\n",
    "    > stop test # 关闭进程\n",
    "    > update # 重启配置文件修改过的程序"
   ]
  },
  {
   "cell_type": "code",
   "execution_count": null,
   "id": "f3ee6a3b",
   "metadata": {},
   "outputs": [],
   "source": []
  }
 ],
 "metadata": {
  "kernelspec": {
   "display_name": "Python 3",
   "language": "python",
   "name": "python3"
  },
  "language_info": {
   "codemirror_mode": {
    "name": "ipython",
    "version": 3
   },
   "file_extension": ".py",
   "mimetype": "text/x-python",
   "name": "python",
   "nbconvert_exporter": "python",
   "pygments_lexer": "ipython3",
   "version": "3.6.13"
  }
 },
 "nbformat": 4,
 "nbformat_minor": 5
}