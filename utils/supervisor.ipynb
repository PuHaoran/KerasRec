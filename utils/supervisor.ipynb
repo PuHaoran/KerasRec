{
 "cells": [
  {
   "cell_type": "markdown",
   "id": "58931954",
   "metadata": {},
   "source": [
    "## Supervisor\n",
    "\n",
    "Supervisor是python开发的管理unix操作系统进程管理工具，用来监听、启动、停止、重启一个或多个进程。当supervisort监听到进程意外挂掉，会自动进行进程恢复。PS：该工具仅支持python2环境，推荐系统中flume日志收集与离线更新均需要该工具。\n",
    "\n",
    "##### 安装\n",
    "\n",
    "yum -y install epel-release\n",
    "\n",
    "sudo yum install python-pip\n",
    "\n",
    "pip install supervisor\n",
    "\n",
    "##### 配置\n",
    "\n",
    "echo_supervisord_conf > supervisord.conf\n",
    "\n",
    "vim打开supervisord.conf，修改\n",
    "\n",
    "    ;[include]\n",
    "    ;files = relative/directory/*.ini\n",
    "\n",
    "为\n",
    "\n",
    "    ;[include]\n",
    "    files = /etc/supervisor/*.conf\n",
    "\n",
    "将该配置文件添加到etc目录，然后新建推荐项目相关的配置文件。\n",
    "\n",
    "sudo cp supervisord.conf /etc/\n",
    "\n",
    "vim rec.conf"
   ]
  },
  {
   "cell_type": "code",
   "execution_count": null,
   "id": "5fa92896",
   "metadata": {},
   "outputs": [],
   "source": [
    "[program:test]\n",
    "command=python /root/toutiao_project/scheduler/main.py\n",
    "directory=/root/toutiao_project/scheduler\n",
    "user=root\n",
    "autorestart=true\n",
    "redirect_stderr=true\n",
    "stdout_logfile=/root/logs/offlinesuper.log\n",
    "loglevel=info\n",
    "stopsignal=KILL\n",
    "stopasgroup=true\n",
    "killasgroup=true"
   ]
  },
  {
   "cell_type": "raw",
   "id": "11d48c8f",
   "metadata": {},
   "source": [
    "[program:offline]\n",
    "environment=JAVA_HOME=/root/bigdata/jdk,SPARK_HOME=/root/bigdata/spark,HADOOP_HOME=/root/bigdata/hadoop,PYSPARK_PYTHON=/miniconda2/envs/reco_sys/bin/python,PYSPARK_DRIVER_PYTHON=/miniconda2/envs/reco_sys/bin/python\n",
    "command=/miniconda2/envs/reco_sys/bin/python /root/toutiao_project/scheduler/main.py\n",
    "directory=/root/toutiao_project/scheduler\n",
    "user=root\n",
    "autorestart=true\n",
    "redirect_stderr=true\n",
    "stdout_logfile=/root/logs/offlinesuper.log\n",
    "loglevel=info\n",
    "stopsignal=KILL\n",
    "stopasgroup=true\n",
    "killasgroup=true"
   ]
  }
 ],
 "metadata": {
  "kernelspec": {
   "display_name": "Python 3",
   "language": "python",
   "name": "python3"
  },
  "language_info": {
   "codemirror_mode": {
    "name": "ipython",
    "version": 3
   },
   "file_extension": ".py",
   "mimetype": "text/x-python",
   "name": "python",
   "nbconvert_exporter": "python",
   "pygments_lexer": "ipython3",
   "version": "3.6.13"
  }
 },
 "nbformat": 4,
 "nbformat_minor": 5
}
